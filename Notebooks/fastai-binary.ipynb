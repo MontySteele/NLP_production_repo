{
 "cells": [
  {
   "cell_type": "markdown",
   "metadata": {},
   "source": [
    "### In this notebook I attempt to fit my data using an AWD-LSTM neural network with the fastai library."
   ]
  },
  {
   "cell_type": "code",
   "execution_count": 1,
   "metadata": {},
   "outputs": [],
   "source": [
    "# Handle imports\n",
    "\n",
    "import pandas as pd\n",
    "import numpy as np\n",
    "import csv  \n",
    "\n",
    "from sklearn.model_selection import train_test_split\n",
    "import random\n",
    "from datetime import datetime\n",
    "\n",
    "from fastai.text import *\n",
    "\n",
    "#Load the data\n",
    "file_path_comments = \"../Data/cleaned_comment_data_50k.csv\"\n",
    "\n",
    "clean_comments = pd.read_csv(file_path_comments, index_col = False)"
   ]
  },
  {
   "cell_type": "code",
   "execution_count": 2,
   "metadata": {},
   "outputs": [
    {
     "name": "stdout",
     "output_type": "stream",
     "text": [
      "Stunning photos and reportage. Infuriating that the Trump admistration's draconian reinstatement of the global gag order will prevent men and women from receiving appropriate family planning advice, so obviously desperately   needed.\n"
     ]
    },
    {
     "data": {
      "text/plain": [
       "0    2.0\n",
       "1    1.0\n",
       "2    3.0\n",
       "3    7.0\n",
       "4    5.0\n",
       "Name: recommendations, dtype: float64"
      ]
     },
     "execution_count": 2,
     "metadata": {},
     "output_type": "execute_result"
    }
   ],
   "source": [
    "X = clean_comments['commentBody']\n",
    "y = clean_comments['recommendations']\n",
    "print(X[1])\n",
    "y.head(5)"
   ]
  },
  {
   "cell_type": "code",
   "execution_count": 3,
   "metadata": {},
   "outputs": [
    {
     "data": {
      "text/plain": [
       "50000"
      ]
     },
     "execution_count": 3,
     "metadata": {},
     "output_type": "execute_result"
    }
   ],
   "source": [
    "len(clean_comments)"
   ]
  },
  {
   "cell_type": "markdown",
   "metadata": {},
   "source": [
    "##### In this next cell, I convert my integer target, 'recommendations', to a category target. I create bins such that comments with 0 recommendations are in bin 0 and all other comments are in bin 1."
   ]
  },
  {
   "cell_type": "code",
   "execution_count": 4,
   "metadata": {},
   "outputs": [],
   "source": [
    "#set up bins\n",
    "bin = [-1, 1, float('inf')]\n",
    "label = [0, 1]\n",
    "#use pd.cut function can attribute the values into its specific bins\n",
    "category = pd.cut(y, bin, right = False, labels=label)\n",
    "category = category.to_frame()\n",
    "category.columns = ['range']\n",
    "#concatenate age and its bin\n",
    "df_new = pd.concat([y,category],axis = 1)\n",
    "df_new['comment'] = X"
   ]
  },
  {
   "cell_type": "code",
   "execution_count": 5,
   "metadata": {},
   "outputs": [
    {
     "data": {
      "text/html": [
       "<div>\n",
       "<style scoped>\n",
       "    .dataframe tbody tr th:only-of-type {\n",
       "        vertical-align: middle;\n",
       "    }\n",
       "\n",
       "    .dataframe tbody tr th {\n",
       "        vertical-align: top;\n",
       "    }\n",
       "\n",
       "    .dataframe thead th {\n",
       "        text-align: right;\n",
       "    }\n",
       "</style>\n",
       "<table border=\"1\" class=\"dataframe\">\n",
       "  <thead>\n",
       "    <tr style=\"text-align: right;\">\n",
       "      <th></th>\n",
       "      <th>recommendations</th>\n",
       "      <th>range</th>\n",
       "      <th>comment</th>\n",
       "    </tr>\n",
       "  </thead>\n",
       "  <tbody>\n",
       "    <tr>\n",
       "      <th>0</th>\n",
       "      <td>2.0</td>\n",
       "      <td>1</td>\n",
       "      <td>This project makes me happy to be a 30+ year T...</td>\n",
       "    </tr>\n",
       "    <tr>\n",
       "      <th>1</th>\n",
       "      <td>1.0</td>\n",
       "      <td>1</td>\n",
       "      <td>Stunning photos and reportage. Infuriating tha...</td>\n",
       "    </tr>\n",
       "    <tr>\n",
       "      <th>2</th>\n",
       "      <td>3.0</td>\n",
       "      <td>1</td>\n",
       "      <td>Brilliant work from conception to execution. I...</td>\n",
       "    </tr>\n",
       "    <tr>\n",
       "      <th>3</th>\n",
       "      <td>7.0</td>\n",
       "      <td>1</td>\n",
       "      <td>NYT reporters should provide a contributor's l...</td>\n",
       "    </tr>\n",
       "    <tr>\n",
       "      <th>4</th>\n",
       "      <td>5.0</td>\n",
       "      <td>1</td>\n",
       "      <td>Could only have been done in print. Stunning.</td>\n",
       "    </tr>\n",
       "  </tbody>\n",
       "</table>\n",
       "</div>"
      ],
      "text/plain": [
       "   recommendations range                                            comment\n",
       "0              2.0     1  This project makes me happy to be a 30+ year T...\n",
       "1              1.0     1  Stunning photos and reportage. Infuriating tha...\n",
       "2              3.0     1  Brilliant work from conception to execution. I...\n",
       "3              7.0     1  NYT reporters should provide a contributor's l...\n",
       "4              5.0     1     Could only have been done in print. Stunning. "
      ]
     },
     "execution_count": 5,
     "metadata": {},
     "output_type": "execute_result"
    }
   ],
   "source": [
    "df_new.head(5)"
   ]
  },
  {
   "cell_type": "code",
   "execution_count": 6,
   "metadata": {},
   "outputs": [
    {
     "name": "stdout",
     "output_type": "stream",
     "text": [
      "13159 36841\n"
     ]
    },
    {
     "data": {
      "text/html": [
       "<div>\n",
       "<style scoped>\n",
       "    .dataframe tbody tr th:only-of-type {\n",
       "        vertical-align: middle;\n",
       "    }\n",
       "\n",
       "    .dataframe tbody tr th {\n",
       "        vertical-align: top;\n",
       "    }\n",
       "\n",
       "    .dataframe thead th {\n",
       "        text-align: right;\n",
       "    }\n",
       "</style>\n",
       "<table border=\"1\" class=\"dataframe\">\n",
       "  <thead>\n",
       "    <tr style=\"text-align: right;\">\n",
       "      <th></th>\n",
       "      <th>recommendations</th>\n",
       "      <th>range</th>\n",
       "      <th>comment</th>\n",
       "    </tr>\n",
       "  </thead>\n",
       "  <tbody>\n",
       "    <tr>\n",
       "      <th>8</th>\n",
       "      <td>0.0</td>\n",
       "      <td>0</td>\n",
       "      <td>I agree. I've just spent 30 minutes trying to ...</td>\n",
       "    </tr>\n",
       "    <tr>\n",
       "      <th>71</th>\n",
       "      <td>0.0</td>\n",
       "      <td>0</td>\n",
       "      <td>I don't know about Paul Ryan and if we can bla...</td>\n",
       "    </tr>\n",
       "    <tr>\n",
       "      <th>124</th>\n",
       "      <td>0.0</td>\n",
       "      <td>0</td>\n",
       "      <td>Would be interesting to know how much taxpayer...</td>\n",
       "    </tr>\n",
       "    <tr>\n",
       "      <th>126</th>\n",
       "      <td>0.0</td>\n",
       "      <td>0</td>\n",
       "      <td>This is a funny column.  But seriously folks, ...</td>\n",
       "    </tr>\n",
       "    <tr>\n",
       "      <th>131</th>\n",
       "      <td>0.0</td>\n",
       "      <td>0</td>\n",
       "      <td>The only benefit to Trump's presidency and a R...</td>\n",
       "    </tr>\n",
       "  </tbody>\n",
       "</table>\n",
       "</div>"
      ],
      "text/plain": [
       "     recommendations range                                            comment\n",
       "8                0.0     0  I agree. I've just spent 30 minutes trying to ...\n",
       "71               0.0     0  I don't know about Paul Ryan and if we can bla...\n",
       "124              0.0     0  Would be interesting to know how much taxpayer...\n",
       "126              0.0     0  This is a funny column.  But seriously folks, ...\n",
       "131              0.0     0  The only benefit to Trump's presidency and a R..."
      ]
     },
     "execution_count": 6,
     "metadata": {},
     "output_type": "execute_result"
    }
   ],
   "source": [
    "# Here I create a 'balanced' dataset to see if this improves my model accuracy.\n",
    "\n",
    "df_0 = df_new.loc[df_new['range'] == 0]\n",
    "df_1 = df_new.loc[df_new['range'] == 1]\n",
    "\n",
    "print(len(df_0), len(df_1))\n",
    "\n",
    "df_balanced = pd.concat([df_0[:(len(df_0)-1)], df_1[:(len(df_0)-1)]], axis=0)\n",
    "\n",
    "df_balanced.head(5)"
   ]
  },
  {
   "cell_type": "markdown",
   "metadata": {},
   "source": [
    "##### Here I create a crossfold validation split. I then merge the separated comments and recommendation counts into one dataframe containing training data and one dataframe containing test data, which fastai takes as inputs."
   ]
  },
  {
   "cell_type": "code",
   "execution_count": 7,
   "metadata": {},
   "outputs": [],
   "source": [
    "#Here I'm using the imbalanced dataset\n",
    "\n",
    "X_train, X_test, y_train, y_test = train_test_split(\n",
    "    df_balanced['comment'], df_balanced['range'], test_size=0.2, random_state=random.seed(datetime.now()))"
   ]
  },
  {
   "cell_type": "markdown",
   "metadata": {},
   "source": [
    "##### In this cell I am creating my model using data blocks created using the text classifier with the LSTM model architecture."
   ]
  },
  {
   "cell_type": "code",
   "execution_count": 10,
   "metadata": {},
   "outputs": [],
   "source": [
    "df_nlp_data_train = pd.concat([y_train, X_train], axis=1)\n",
    "df_nlp_data_test = pd.concat([y_test, X_test], axis=1)\n",
    "\n",
    "path = '../Data/'\n",
    "data_lm = TextLMDataBunch.from_df(path=\"\", train_df=df_nlp_data_train, valid_df=df_nlp_data_test, bs=32)\n",
    "data_clas  = TextClasDataBunch.from_df(path=\"\", train_df=df_nlp_data_train, valid_df=df_nlp_data_test, bs=32)"
   ]
  },
  {
   "cell_type": "code",
   "execution_count": 11,
   "metadata": {},
   "outputs": [
    {
     "data": {
      "text/html": [
       "<table border=\"1\" class=\"dataframe\">\n",
       "  <thead>\n",
       "    <tr style=\"text-align: left;\">\n",
       "      <th>epoch</th>\n",
       "      <th>train_loss</th>\n",
       "      <th>valid_loss</th>\n",
       "      <th>accuracy</th>\n",
       "      <th>time</th>\n",
       "    </tr>\n",
       "  </thead>\n",
       "  <tbody>\n",
       "    <tr>\n",
       "      <td>0</td>\n",
       "      <td>3.955914</td>\n",
       "      <td>3.711527</td>\n",
       "      <td>0.355575</td>\n",
       "      <td>01:59</td>\n",
       "    </tr>\n",
       "  </tbody>\n",
       "</table>"
      ],
      "text/plain": [
       "<IPython.core.display.HTML object>"
      ]
     },
     "metadata": {},
     "output_type": "display_data"
    }
   ],
   "source": [
    "#First I train my encoder on my word corpus. This model comes with a pretrained AWD_LSTM architecture using transfer learning.\n",
    "\n",
    "learn = language_model_learner(data_lm, AWD_LSTM)\n",
    "learn.metrics=[accuracy]\n",
    "learn.unfreeze()\n",
    "learn.fit_one_cycle(1, slice(1e-2), moms=(0.8,0.7))\n",
    "\n",
    "# I save my encoder\n",
    "learn.save_encoder('enc')"
   ]
  },
  {
   "cell_type": "code",
   "execution_count": 12,
   "metadata": {},
   "outputs": [
    {
     "name": "stdout",
     "output_type": "stream",
     "text": [
      "Complete!\n"
     ]
    }
   ],
   "source": [
    "learn = text_classifier_learner(data_clas, arch=AWD_LSTM, drop_mult=0.3)\n",
    "learn.load_encoder('enc')\n",
    "\n",
    "# Avoid massive text dump\n",
    "\n",
    "print(\"Complete!\")"
   ]
  },
  {
   "cell_type": "code",
   "execution_count": 13,
   "metadata": {},
   "outputs": [
    {
     "data": {
      "text/html": [],
      "text/plain": [
       "<IPython.core.display.HTML object>"
      ]
     },
     "metadata": {},
     "output_type": "display_data"
    },
    {
     "name": "stdout",
     "output_type": "stream",
     "text": [
      "LR Finder is complete, type {learner_name}.recorder.plot() to see the graph.\n"
     ]
    }
   ],
   "source": [
    "#Here I want to find what learning rate to use for my model.\n",
    "\n",
    "learn.lr_find()"
   ]
  },
  {
   "cell_type": "code",
   "execution_count": 14,
   "metadata": {},
   "outputs": [
    {
     "name": "stdout",
     "output_type": "stream",
     "text": [
      "Min numerical gradient: 3.31E-02\n",
      "Min loss divided by 10: 3.98E-03\n"
     ]
    },
    {
     "data": {
      "image/png": "[encoded data removed]",
      "text/plain": [
       "<Figure size 432x288 with 1 Axes>"
      ]
     },
     "metadata": {
      "needs_background": "light"
     },
     "output_type": "display_data"
    }
   ],
   "source": [
    "# Set the learning rate to the point with the minimum gradient\n",
    "\n",
    "learn.recorder.plot(suggestion=True, skip_end=15)\n",
    "min_grad_lr=learn.recorder.min_grad_lr"
   ]
  },
  {
   "cell_type": "code",
   "execution_count": 15,
   "metadata": {},
   "outputs": [
    {
     "data": {
      "text/html": [
       "<table border=\"1\" class=\"dataframe\">\n",
       "  <thead>\n",
       "    <tr style=\"text-align: left;\">\n",
       "      <th>epoch</th>\n",
       "      <th>train_loss</th>\n",
       "      <th>valid_loss</th>\n",
       "      <th>accuracy</th>\n",
       "      <th>time</th>\n",
       "    </tr>\n",
       "  </thead>\n",
       "  <tbody>\n",
       "    <tr>\n",
       "      <td>0</td>\n",
       "      <td>0.592676</td>\n",
       "      <td>0.564728</td>\n",
       "      <td>0.681801</td>\n",
       "      <td>01:18</td>\n",
       "    </tr>\n",
       "  </tbody>\n",
       "</table>"
      ],
      "text/plain": [
       "<IPython.core.display.HTML object>"
      ]
     },
     "metadata": {},
     "output_type": "display_data"
    }
   ],
   "source": [
    "# Train my model for one cycle. Loss tends to increase with additional epochs - one cycle is sufficient.\n",
    "\n",
    "learn.fit_one_cycle(1, min_grad_lr, moms=(0.8,0.7))"
   ]
  },
  {
   "cell_type": "code",
   "execution_count": 16,
   "metadata": {},
   "outputs": [],
   "source": [
    "# Save the model\n",
    "learn.save('balanced_50k_test')\n",
    "learn.export('models/balanced_50k.pkl')"
   ]
  },
  {
   "cell_type": "code",
   "execution_count": 17,
   "metadata": {},
   "outputs": [
    {
     "name": "stdout",
     "output_type": "stream",
     "text": [
      "Load complete!\n"
     ]
    }
   ],
   "source": [
    "learn.load('balanced_50k_test')\n",
    "\n",
    "# Avoid massive text dump\n",
    "\n",
    "print(\"Load complete!\")"
   ]
  },
  {
   "cell_type": "markdown",
   "metadata": {},
   "source": [
    "##### Here we get the predictions of the validation set, then print a sample of predictions. This is to verify that the model is not defaulting to a trivial output such as putting all predictions in the same category."
   ]
  },
  {
   "cell_type": "code",
   "execution_count": 18,
   "metadata": {},
   "outputs": [
    {
     "name": "stdout",
     "output_type": "stream",
     "text": [
      "The accuracy is 0.681800901889801 %.\n"
     ]
    }
   ],
   "source": [
    "preds, y_predict, loss = learn.get_preds(with_loss=True)\n",
    "# get accuracy\n",
    "acc = accuracy(preds, y_predict)\n",
    "print('The accuracy is {0} %.'.format(acc))\n",
    "\n",
    "\n",
    "#balanced: .70, imbalanced: .78\n",
    "#The unbalanced model has higher accuracy"
   ]
  },
  {
   "cell_type": "code",
   "execution_count": 19,
   "metadata": {},
   "outputs": [
    {
     "name": "stdout",
     "output_type": "stream",
     "text": [
      "5264\n",
      "5264\n"
     ]
    }
   ],
   "source": [
    "# Now let's analyze the predictions on the test data\n",
    "\n",
    "predCat = preds.data.numpy().argmax(axis=1)\n",
    "\n",
    "print(len(preds))\n",
    "print(len(y_predict))"
   ]
  },
  {
   "cell_type": "code",
   "execution_count": 20,
   "metadata": {},
   "outputs": [
    {
     "name": "stdout",
     "output_type": "stream",
     "text": [
      "F1:        0.7293585393439975\n",
      "Precision: 0.6350590883511537\n",
      "Recall:    0.8565464895635674\n"
     ]
    }
   ],
   "source": [
    "# Get the F! score, the precision and the recall\n",
    "\n",
    "from sklearn.metrics import f1_score\n",
    "from sklearn.metrics import precision_score\n",
    "from sklearn.metrics import recall_score\n",
    "\n",
    "print('F1:        {}'.format(f1_score(y_predict, predCat)))\n",
    "print('Precision: {}'.format(precision_score(y_predict, predCat)))\n",
    "print('Recall:    {}'.format(recall_score(y_predict, predCat)))\n",
    "\n",
    "# Balanced: 0.74, .68, .79\n",
    "# Unbalanced: .87, .78, .99\n",
    "\n",
    "# The unbalanced model has higher precision, recall and F1"
   ]
  },
  {
   "cell_type": "code",
   "execution_count": 21,
   "metadata": {
    "scrolled": true
   },
   "outputs": [
    {
     "data": {
      "text/plain": [
       "Text(0.5, 1.0, 'Predictions')"
      ]
     },
     "execution_count": 21,
     "metadata": {},
     "output_type": "execute_result"
    },
    {
     "data": {
      "image/png": "[encoded data removed]",
      "text/plain": [
       "<Figure size 432x288 with 2 Axes>"
      ]
     },
     "metadata": {
      "needs_background": "light"
     },
     "output_type": "display_data"
    }
   ],
   "source": [
    "# Plot my predicted values to look for overfitting\n",
    "\n",
    "n_bins=10\n",
    "\n",
    "fig, axs = plt.subplots(1, 2, sharey=True, tight_layout=True)\n",
    "\n",
    "# We can set the number of bins with the `bins` kwarg\n",
    "axs[0].hist(y_test[:10000], bins=n_bins)\n",
    "#axs[0].set_yscale('log')\n",
    "axs[0].set_title('Actual values')\n",
    "axs[1].hist(predCat[:10000], bins=n_bins)\n",
    "#axs[1].set_yscale('log')\n",
    "axs[1].set_title('Predictions')"
   ]
  },
  {
   "cell_type": "code",
   "execution_count": 22,
   "metadata": {},
   "outputs": [
    {
     "name": "stdout",
     "output_type": "stream",
     "text": [
      "   actual  predict\n",
      "0       0        0\n",
      "1       0        1\n",
      "2       1        1\n",
      "3       0        0\n",
      "4       0        1\n",
      "1    2635\n",
      "0    2629\n",
      "Name: actual, dtype: int64\n",
      "1    3554\n",
      "0    1710\n",
      "Name: predict, dtype: int64\n"
     ]
    },
    {
     "data": {
      "text/html": [
       "<div>\n",
       "<style scoped>\n",
       "    .dataframe tbody tr th:only-of-type {\n",
       "        vertical-align: middle;\n",
       "    }\n",
       "\n",
       "    .dataframe tbody tr th {\n",
       "        vertical-align: top;\n",
       "    }\n",
       "\n",
       "    .dataframe thead th {\n",
       "        text-align: right;\n",
       "    }\n",
       "</style>\n",
       "<table border=\"1\" class=\"dataframe\">\n",
       "  <thead>\n",
       "    <tr style=\"text-align: right;\">\n",
       "      <th>predict</th>\n",
       "      <th>0</th>\n",
       "      <th>1</th>\n",
       "    </tr>\n",
       "    <tr>\n",
       "      <th>actual</th>\n",
       "      <th></th>\n",
       "      <th></th>\n",
       "    </tr>\n",
       "  </thead>\n",
       "  <tbody>\n",
       "    <tr>\n",
       "      <th>0</th>\n",
       "      <td>1332</td>\n",
       "      <td>1297</td>\n",
       "    </tr>\n",
       "    <tr>\n",
       "      <th>1</th>\n",
       "      <td>378</td>\n",
       "      <td>2257</td>\n",
       "    </tr>\n",
       "  </tbody>\n",
       "</table>\n",
       "</div>"
      ],
      "text/plain": [
       "predict     0     1\n",
       "actual             \n",
       "0        1332  1297\n",
       "1         378  2257"
      ]
     },
     "execution_count": 22,
     "metadata": {},
     "output_type": "execute_result"
    }
   ],
   "source": [
    "# Here I split out my predictions so I can create a confusion matrix\n",
    "\n",
    "act_vs_pred = pd.concat([pd.DataFrame(y_predict.numpy()), pd.Series(predCat[:10000])], axis=1, ignore_index=True)\n",
    "\n",
    "act_vs_pred.columns = (['actual', 'predict'])\n",
    "print(act_vs_pred.head(5))\n",
    "\n",
    "print(act_vs_pred['actual'].value_counts())\n",
    "print(act_vs_pred['predict'].value_counts())\n",
    "\n",
    "act_vs_pred.to_csv('act_vs_pred.csv', index=False)\n",
    "\n",
    "pd.crosstab(act_vs_pred['actual'], act_vs_pred['predict'])"
   ]
  },
  {
   "cell_type": "markdown",
   "metadata": {},
   "source": [
    "##### The balanced model has a -much- lower false positive rate than the imbalanced model. Use this one!"
   ]
  },
  {
   "cell_type": "code",
   "execution_count": null,
   "metadata": {},
   "outputs": [],
   "source": []
  }
 ],
 "metadata": {
  "kernelspec": {
   "display_name": "Python [conda env:fastai_v1] *",
   "language": "python",
   "name": "conda-env-fastai_v1-py"
  },
  "language_info": {
   "codemirror_mode": {
    "name": "ipython",
    "version": 3
   },
   "file_extension": ".py",
   "mimetype": "text/x-python",
   "name": "python",
   "nbconvert_exporter": "python",
   "pygments_lexer": "ipython3",
   "version": "3.6.9"
  }
 },
 "nbformat": 4,
 "nbformat_minor": 2
}
